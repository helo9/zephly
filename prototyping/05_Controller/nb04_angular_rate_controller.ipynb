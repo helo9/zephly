{
 "cells": [
  {
   "cell_type": "markdown",
   "id": "551ef4d0-e27c-4506-b745-1e530383d637",
   "metadata": {
    "tags": []
   },
   "source": [
    "# Angular Rate Control\n",
    "\n",
    "The attitude rate controller is the most inner loop in ordinary quadrocopter flight\n",
    "control codes. It operates on the attitude rate vector in the body reference system.\n",
    "\n",
    "We implement three independent PID for each axis ($x$, $y$, $z$) loops with the following structure:\n",
    "\n",
    "![AngularRate.drawio.svg](AngularRate.drawio.svg)\n",
    "\n",
    "This is similiar to the px4 AngularRate controller. There are some notable differences compared to the textbook version of PIDs:\n",
    "\n",
    " * Only the measured state is used for the differential path, to prevent impulse responses in the output signal due to steps in the reference signal (also known as derivative kick)\n",
    " * The differentiated measurement is low pass filtered to reduce the effect of hight frequent noise\n",
    " * On the integral path additional information is fed in, to prevent integral windup"
   ]
  },
  {
   "cell_type": "code",
   "execution_count": 2,
   "id": "89139a0e-a86e-4752-8b86-37984fa36189",
   "metadata": {},
   "outputs": [
    {
     "name": "stdout",
     "output_type": "stream",
     "text": [
      "importing Jupyter notebook from nb01_low_pass_filter.ipynb\n"
     ]
    }
   ],
   "source": [
    "import notebook_import\n",
    "from nb01_low_pass_filter import get_first_order_iir_low_pass"
   ]
  },
  {
   "cell_type": "code",
   "execution_count": 13,
   "id": "447decf1-a23c-4048-afa8-c985cdd9c14e",
   "metadata": {
    "tags": []
   },
   "outputs": [],
   "source": [
    "from enum import Enum\n",
    "class RateConroller:\n",
    "    Saturation = Enum(\"Saturation\", \"POSITIVE NONE NEGATIVE\")\n",
    "        \n",
    "    def __init__(self, p, i, d, dt, t_d_lpf, i_lim=None):\n",
    "        self._k_p = p\n",
    "        self._k_i = i\n",
    "        self._k_d = d\n",
    "        \n",
    "        self._dt = dt\n",
    "        \n",
    "        self._p_val = 0.0\n",
    "        self._i_val = 0.0\n",
    "        self._d_val = 0.0\n",
    "        \n",
    "        self._i_lower_lim = -i_lim\n",
    "        self._i_upper_lim = i_lim\n",
    "        self._i_sum = 0.0\n",
    "        \n",
    "        self._d_lpf = get_first_order_iir_low_pass(dt, t_d_lpf)\n",
    "        \n",
    "        self._last_measurement = None\n",
    "        self._saturation = self.Saturation.NONE     \n",
    "        \n",
    "    def _clip(self, val, upper_lim, lower_lim):\n",
    "        assert (upper_lim is None or lower_lim is None) or upper_lim > lower_lim, \\\n",
    "            \"The upper limit has always to be greater than the lower limit\"\n",
    "        if upper_lim is not None and val > upper_lim:\n",
    "            return upper_lim\n",
    "        elif lower_lim is not None and val < lower_lim:\n",
    "            return lower_lim\n",
    "        else:\n",
    "            return val\n",
    "    \n",
    "    def _update_integrator(self, error):\n",
    "        \n",
    "        if self._saturation is self.Saturation.POSITIVE:\n",
    "            error = min(0.0, error)\n",
    "        elif self._saturation is self.Saturation.NEGATIVE:\n",
    "            error = max(0.0, error)\n",
    "        \n",
    "        self._i_sum += error * dt\n",
    "        \n",
    "        self._i_sum = self._clip(self._i_sum, self._i_upper_lim, self._i_lower_lim)\n",
    "    \n",
    "    def _calc_d(self, measurement):\n",
    "        \n",
    "        if self._last_measurement is not None:\n",
    "            Δy = measurement - self._last_measurement\n",
    "            \n",
    "        else:\n",
    "            Δy = 0.0\n",
    "        \n",
    "        self._last_measurement = measurement\n",
    "        \n",
    "        return self._d_lpf(Δy)\n",
    "    \n",
    "    def update(self, setpoint, measurement):\n",
    "        dt = self._dt\n",
    "            \n",
    "        error = setpoint - measurement\n",
    "        \n",
    "        self._p_val = error * self._k_p\n",
    "        self._i_val = self._i_sum * self._k_i\n",
    "        self._d_val = -self._calc_d(measurement) * self._k_d\n",
    "        \n",
    "        self._update_integrator(error)\n",
    "        \n",
    "        return self._p_val  + self._i_val + self._d_val \n",
    "    \n",
    "    def anti_windup_backcalculation(self, desired_output):\n",
    "        self._i_sum = ( desired_output - self._p_val - self._d_val ) / self._k_i\n",
    "        \n",
    "    def set_saturation_state(self, saturation):\n",
    "        self._saturation = saturation\n",
    "        "
   ]
  },
  {
   "cell_type": "markdown",
   "id": "13caca4d-d133-43b7-bd68-ff77130e369c",
   "metadata": {},
   "source": [
    "# Trivial Test"
   ]
  },
  {
   "cell_type": "code",
   "execution_count": 14,
   "id": "3f5383f7-a58c-41b0-bf9c-53046291436c",
   "metadata": {},
   "outputs": [],
   "source": [
    "import numpy as np\n",
    "\n",
    "def Simulation(initial: float):\n",
    "    \n",
    "    value = initial\n",
    "    \n",
    "    def simulate(command: float, dt: float, doprint: bool = False):\n",
    "        \n",
    "        nonlocal value\n",
    "        \n",
    "        while dt > 0.0:\n",
    "            value += 0.2 * command * dt\n",
    "            \n",
    "            if doprint:\n",
    "                print(f\"CMD: {command}, Value: {value}\")\n",
    "            \n",
    "            return value\n",
    "    \n",
    "    return simulate"
   ]
  },
  {
   "cell_type": "code",
   "execution_count": 38,
   "id": "6ac61987-3336-41b9-9223-acf329d37055",
   "metadata": {},
   "outputs": [
    {
     "name": "stdout",
     "output_type": "stream",
     "text": [
      "alpha is 0.0006662225183211193\n"
     ]
    }
   ],
   "source": [
    "dt = 0.1\n",
    "sim = Simulation(0.0)\n",
    "pid = RateConroller(30., 1.0, 0.4, 0.01, 15.0, 500)\n",
    "cmd = 0.0\n",
    "\n",
    "data = []\n",
    "\n",
    "for i in range(3000):\n",
    "    measurement = sim(cmd, dt)\n",
    "    \n",
    "    if i < 750:\n",
    "        target = 0.0\n",
    "    elif i < 1000:\n",
    "        target = 1.0\n",
    "    elif i < 1500:\n",
    "        target = -1.0\n",
    "    elif i < 2000:\n",
    "        target = (i-1500) / 500.0 - 1.0\n",
    "    else:\n",
    "        target = 2.0\n",
    "    \n",
    "    cmd = pid.update(target, measurement)\n",
    "    \n",
    "    data.append((measurement, target, cmd))\n",
    "    "
   ]
  },
  {
   "cell_type": "code",
   "execution_count": 39,
   "id": "328b6396-302b-4918-a902-7a29eb40f4e8",
   "metadata": {},
   "outputs": [
    {
     "data": {
      "text/plain": [
       "<matplotlib.legend.Legend at 0x7f1fcb57bcd0>"
      ]
     },
     "execution_count": 39,
     "metadata": {},
     "output_type": "execute_result"
    },
    {
     "data": {
      "image/png": "[encoded data removed]",
      "text/plain": [
       "<Figure size 1080x720 with 1 Axes>"
      ]
     },
     "metadata": {
      "needs_background": "light"
     },
     "output_type": "display_data"
    }
   ],
   "source": [
    "%matplotlib inline\n",
    "from matplotlib import pyplot as plt\n",
    "\n",
    "data = np.array(data)\n",
    "\n",
    "plt.figure(figsize=(15,10))\n",
    "\n",
    "plt.plot(data[:,0], label='x')\n",
    "plt.plot(data[:,1], '--', label='x_tar')\n",
    "\n",
    "plt.grid()\n",
    "plt.legend()"
   ]
  },
  {
   "cell_type": "markdown",
   "id": "62422e55-c541-423a-a8f0-05db43055e77",
   "metadata": {},
   "source": [
    "# Generate Test Data"
   ]
  },
  {
   "cell_type": "code",
   "execution_count": 40,
   "id": "648c5b0d-61aa-4b07-bd71-50d40ffbc928",
   "metadata": {},
   "outputs": [],
   "source": [
    "data = []\n",
    "\n",
    "def update_and_store(pid, sp, y, do_print=True):\n",
    "    out = pid.update(sp, y)\n",
    "    data.append([\n",
    "        sp, y, pid._p_val, pid._i_val, pid._d_val, pid._i_sum, out\n",
    "    ])\n",
    "    if do_print:\n",
    "        print(f\"p={pid._p_val} i={pid._i_val}, d={pid._d_val}, sum={pid._i_sum}, out={out}\")"
   ]
  },
  {
   "cell_type": "code",
   "execution_count": 41,
   "id": "55c755eb-33f3-4b68-bf95-92d9832fbd48",
   "metadata": {},
   "outputs": [
    {
     "name": "stdout",
     "output_type": "stream",
     "text": [
      "alpha is 0.0006662225183211193\n",
      "p=0.0 i=0.0, d=-0.0, sum=0.0, out=0.0\n",
      "p=20.0 i=0.0, d=-0.0, sum=0.1, out=20.0\n",
      "p=20.0 i=0.1, d=-0.0, sum=0.2, out=20.1\n",
      "p=20.0 i=0.2, d=-0.0, sum=0.30000000000000004, out=20.2\n",
      "p=20.0 i=0.30000000000000004, d=-0.0, sum=0.30000000000000004, out=20.3\n",
      "p=-20.0 i=0.30000000000000004, d=-0.0, sum=0.20000000000000004, out=-19.7\n",
      "p=-1.9999999999999996 i=0.20000000000000004, d=0.00011992005329780148, sum=0.19000000000000003, out=-1.7998800799467018\n",
      "p=-1.9999999999999996 i=0.19000000000000003, d=0.0001198401598578962, sum=0.18000000000000002, out=-1.8098801598401417\n",
      "p=-1.9999999999999996 i=0.18000000000000002, d=0.00011976031964479966, sum=0.17, out=-1.8198802396803548\n",
      "p=-20.0 i=0.17, d=-2.395206747505272e-07, sum=0.07, out=-19.830000239520672\n"
     ]
    }
   ],
   "source": [
    "pid = RateConroller(20., 1.0, 0.2, 0.01, 15.0, 500)\n",
    "# first value to initialize\n",
    "update_and_store(pid, 0.0, 0.0)\n",
    "\n",
    "# reference step\n",
    "update_and_store(pid, 1.0, 0.0)\n",
    "update_and_store(pid, 1.0, 0.0)\n",
    "update_and_store(pid, 1.0, 0.0)\n",
    "\n",
    "# set saturation, to ensure integration is paused\n",
    "pid.set_saturation_state(RateConroller.Saturation.POSITIVE)\n",
    "update_and_store(pid, 1.0, 0.0)\n",
    "\n",
    "update_and_store(pid, -1.0, 0.0)\n",
    "\n",
    "# reset saturation state\n",
    "pid.set_saturation_state(RateConroller.Saturation.NONE)\n",
    "\n",
    "update_and_store(pid, -1.0, -0.9)\n",
    "update_and_store(pid, -1.0, -0.9)\n",
    "update_and_store(pid, -1.0, -0.9)\n",
    "update_and_store(pid, -1.0, -0.0)"
   ]
  },
  {
   "cell_type": "code",
   "execution_count": 45,
   "id": "7379eea4-cf6f-4415-96fe-0dcac167c6c2",
   "metadata": {},
   "outputs": [],
   "source": [
    "data = np.array(data)\n",
    "\n",
    "with open(\"../../tests/lib/control/src/test_ratecontrol.inc\", \"w\") as afile:\n",
    "    afile.write(f\"const float test_data_ratecontrol[{data.shape[0]}][{data.shape[1]}] = {{\\n\")\n",
    "    for row in data:\n",
    "        afile.write((\"\\t{{\" + len(row)*\"{:2.16f}f, \" +\"}},\\n\").format(*row))\n",
    "\n",
    "    afile.write(\"};\\n\")"
   ]
  },
  {
   "cell_type": "code",
   "execution_count": 43,
   "id": "de51132c-26c4-4386-a4e2-d4a4df959be8",
   "metadata": {},
   "outputs": [
    {
     "name": "stdout",
     "output_type": "stream",
     "text": [
      "alpha is 0.0006662225183211193\n"
     ]
    },
    {
     "data": {
      "text/plain": [
       "-20.000133244503665"
      ]
     },
     "execution_count": 43,
     "metadata": {},
     "output_type": "execute_result"
    }
   ],
   "source": [
    "pid = RateConroller(20., 1.0, 0.2, 0.01, 15.0, 500)\n",
    "\n",
    "pid.update(0.0, 0.0)\n",
    "pid.update(0.0, 1.0)"
   ]
  },
  {
   "cell_type": "code",
   "execution_count": 44,
   "id": "586d1ed7-bcea-4438-b663-f8cc6a3d3077",
   "metadata": {},
   "outputs": [
    {
     "data": {
      "text/plain": [
       "-0.00013324450366422385"
      ]
     },
     "execution_count": 44,
     "metadata": {},
     "output_type": "execute_result"
    }
   ],
   "source": [
    "pid._d_val"
   ]
  },
  {
   "cell_type": "code",
   "execution_count": null,
   "id": "8385abd3-fee1-4ca0-b8b7-45c0bc76d3d7",
   "metadata": {},
   "outputs": [],
   "source": []
  }
 ],
 "metadata": {
  "kernelspec": {
   "display_name": "Python 3 (ipykernel)",
   "language": "python",
   "name": "python3"
  },
  "language_info": {
   "codemirror_mode": {
    "name": "ipython",
    "version": 3
   },
   "file_extension": ".py",
   "mimetype": "text/x-python",
   "name": "python",
   "nbconvert_exporter": "python",
   "pygments_lexer": "ipython3",
   "version": "3.10.2"
  }
 },
 "nbformat": 4,
 "nbformat_minor": 5
}
