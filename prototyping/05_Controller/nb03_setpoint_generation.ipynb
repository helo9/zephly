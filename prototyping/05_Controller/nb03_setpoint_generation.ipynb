{
 "cells": [
  {
   "cell_type": "markdown",
   "id": "318c01a0-0265-4839-80b3-3392e114625d",
   "metadata": {},
   "source": [
    "# RC Setpoint generation\n",
    "\n",
    "We aim for acro mode control, where pilot inputs command rates. The most straight forward solution to multiply\n",
    "the normalized (-1.0 to 1.0) input by the maximum rate per axis. Additionally some math is applied to optimize\n",
    "it for better handling/feeling (expo).\n",
    "\n",
    "There are multiple variants available in open source flight controller codes. In the following the px4 variant\n",
    "is reimplemented and visualized."
   ]
  },
  {
   "cell_type": "code",
   "execution_count": 1,
   "id": "30c79788-af2e-49c2-b7ca-0aa4b97ab1d9",
   "metadata": {},
   "outputs": [],
   "source": [
    "import numpy as np"
   ]
  },
  {
   "cell_type": "code",
   "execution_count": 2,
   "id": "40a102c1-20dc-4ba1-9cfa-916d42faafa0",
   "metadata": {},
   "outputs": [],
   "source": [
    "def px4_acro(pilot_in, e, g):\n",
    "    # clip inputs\n",
    "    x = np.clip(pilot_in, -0.999, 0.999)\n",
    "    e = np.clip(e, 0.0, 0.99)\n",
    "    g = np.clip(g, 0.00, 1.0)\n",
    "    \n",
    "    # apply expo/superexpo\n",
    "    expo = (1 - e) * x + e * x * x * x\n",
    "    superexpo = expo * (1 - g) / (1 - abs(x) * g)\n",
    "    \n",
    "    return superexpo\n",
    "    "
   ]
  },
  {
   "cell_type": "markdown",
   "id": "fdbc3d1f-95e0-4923-9efc-a0285268b7e3",
   "metadata": {},
   "source": [
    "## Visualization"
   ]
  },
  {
   "cell_type": "code",
   "execution_count": 3,
   "id": "0e3c4a1e-164f-4c9e-84fa-293f3ca018c3",
   "metadata": {},
   "outputs": [],
   "source": [
    "input_range = np.linspace(-1.0, 1.0, 1000)\n",
    "\n",
    "def plot_setpoint(pilot_in, e, g):\n",
    "\n",
    "    outputs = [px4_acro(x, e, g) for x in input_range]\n",
    "    \n",
    "    y = px4_acro(pilot_in, e, g)\n",
    "    \n",
    "    plt.figure(2)\n",
    "    \n",
    "    plt.plot(input_range, outputs)\n",
    "    plt.plot(pilot_in, y, \"ro\")\n",
    "    \n",
    "    plt.show()"
   ]
  },
  {
   "cell_type": "code",
   "execution_count": 4,
   "id": "b4c3658e-f533-4ad1-b034-64ce87df0898",
   "metadata": {},
   "outputs": [
    {
     "data": {
      "application/vnd.jupyter.widget-view+json": {
       "model_id": "f5f879dae7614d50a3bcbad09d7469bb",
       "version_major": 2,
       "version_minor": 0
      },
      "text/plain": [
       "Box(children=(Box(children=(Label(value='Controls'), FloatSlider(value=0.0, description='input', max=1.0, min=…"
      ]
     },
     "metadata": {},
     "output_type": "display_data"
    }
   ],
   "source": [
    "%matplotlib inline\n",
    "from matplotlib import pyplot as plt\n",
    "from ipywidgets import Layout, Button, Box, IntSlider, FloatSlider, Output, Label, interactive_output\n",
    "\n",
    "input_slider_options = {'value': 0.0, 'min':-1.0, 'max':1.0, 'step':0.01}\n",
    "input_labels = ['input', 'e', 'g']\n",
    "inputs = {\n",
    "    \"pilot_in\": FloatSlider(description=\"input\", value=0.0, min=-1.0, max=1.0, step=0.01),\n",
    "    \"e\": FloatSlider(description=\"e\", value=0.0, min=0.0, max=1.0, step=0.01),\n",
    "    \"g\": FloatSlider(description=\"g\", value=0.0, min=0.0, max=0.99, step=0.01),\n",
    "}\n",
    "items = [Label(value='Controls'), *inputs.values()]\n",
    "\n",
    "vbox_layout = Layout(display='flex',\n",
    "                    flex_flow='column',\n",
    "                    align_items='stretch',\n",
    "                    width='400px')\n",
    "\n",
    "vbox = Box(children=items, layout=vbox_layout)\n",
    "\n",
    "hbox_layout = Layout(display='flex',\n",
    "                     flex_flow='row',\n",
    "                     align_items='stretch',\n",
    "                     width='100%')\n",
    "\n",
    "out1 = interactive_output(plot_setpoint, inputs)\n",
    "\n",
    "\n",
    "hbox = Box(children=(vbox, out1), layout=hbox_layout)\n",
    "\n",
    "hbox"
   ]
  },
  {
   "cell_type": "markdown",
   "id": "64fd8014-7c35-4d82-ad3b-9c5fa9965257",
   "metadata": {},
   "source": [
    "## Test data\n",
    "\n",
    "Data generation for C/C++ implementation tests,"
   ]
  },
  {
   "cell_type": "code",
   "execution_count": 5,
   "id": "451fcd38-c837-4c40-ba3e-ce5c1bc0293c",
   "metadata": {},
   "outputs": [],
   "source": [
    "from itertools import product"
   ]
  },
  {
   "cell_type": "code",
   "execution_count": 6,
   "id": "60d307f7-102d-483c-906e-630f8ef719aa",
   "metadata": {},
   "outputs": [],
   "source": [
    "pilot_input_values = [-1.1, -1.0, -0.3, 0.0, 0.88, 0.999, 1.0, 1.5]\n",
    "e_input_values = [-0.001, 0.0, 0.4, 0.99, 1.0]\n",
    "g_input_values = [-0.9, 0.0, 0.1, 0.5, 1.0, 2.9]\n",
    "\n",
    "data = []\n",
    "\n",
    "for p_in, e_in, g_in in product(pilot_input_values, e_input_values, g_input_values):\n",
    "    \n",
    "    res = px4_acro(p_in, e_in, g_in)\n",
    "    \n",
    "    data.append([p_in, e_in, g_in, res])\n",
    "    "
   ]
  },
  {
   "cell_type": "code",
   "execution_count": 7,
   "id": "ac9d0163-4ebb-471a-ae47-9ad914eaefc4",
   "metadata": {},
   "outputs": [],
   "source": [
    "data = np.array(data)\n",
    "\n",
    "with open(\"../../tests/drivers/rc/src/test_rate_setpoint.inc\", \"w\") as afile:\n",
    "    afile.write(\"// This file is autogenerated by 03_SetpointGeneration, do not alter\\n\\n\")\n",
    "    afile.write(\"// Test Data columns: pilot_in, e, g, max_rate, output\\n\")\n",
    "    afile.write(f\"const float test_data_setpoint[{data.shape[0]}][{data.shape[1]}] = {{\\n\")\n",
    "    for row in data:\n",
    "        afile.write((\"\\t{{\" + len(row)*\"{:2.16f}f, \" +\"}},\\n\").format(*row))\n",
    "\n",
    "    afile.write(\"};\\n\")"
   ]
  },
  {
   "cell_type": "code",
   "execution_count": null,
   "id": "b5cbb4c4-fe8e-4380-a74c-cf1fd23fb694",
   "metadata": {},
   "outputs": [],
   "source": []
  }
 ],
 "metadata": {
  "kernelspec": {
   "display_name": "Python 3 (ipykernel)",
   "language": "python",
   "name": "python3"
  },
  "language_info": {
   "codemirror_mode": {
    "name": "ipython",
    "version": 3
   },
   "file_extension": ".py",
   "mimetype": "text/x-python",
   "name": "python",
   "nbconvert_exporter": "python",
   "pygments_lexer": "ipython3",
   "version": "3.10.1"
  }
 },
 "nbformat": 4,
 "nbformat_minor": 5
}
