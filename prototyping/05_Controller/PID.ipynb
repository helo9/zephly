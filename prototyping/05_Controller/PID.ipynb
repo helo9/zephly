{
 "cells": [
  {
   "cell_type": "markdown",
   "id": "d8d4701d-c483-43ad-a607-324a5e7e5a23",
   "metadata": {},
   "source": [
    "# PID Implementation\n",
    "\n",
    "following px4 ( https://docs.px4.io/master/en/config_mc/pid_tuning_guide_multicopter.html#rate-controller )"
   ]
  },
  {
   "cell_type": "code",
   "execution_count": 16,
   "id": "339ab1b4-1273-4d7a-9632-efc3cabad761",
   "metadata": {},
   "outputs": [],
   "source": [
    "def clip(x, min_val, max_val):\n",
    "    \n",
    "    assert max_val > min_val\n",
    "    \n",
    "    if x > max_val:\n",
    "        return max_val\n",
    "    elif x < min_val:\n",
    "        return min_val\n",
    "    else:\n",
    "        return x\n",
    "\n",
    "class PID:\n",
    "    def __init__(self, K: float, P: float, D: float, I: float, I_Limit: float = 15, doprint: bool = False):\n",
    "        self.K = K\n",
    "        self.P = P\n",
    "        self.D = D\n",
    "        self.I = I\n",
    "        \n",
    "        self.last_measurement = 0.0\n",
    "        self.I_Value = 0.0\n",
    "        self.I_Limit = I_Limit\n",
    "        \n",
    "        self.doprint = doprint\n",
    "        \n",
    "    def update(self, measurement: float, target: float, dt: float):\n",
    "        \n",
    "        # D - term\n",
    "        if dt > 0.0:\n",
    "            d_term = - self.D * (measurement - self.last_measurement)/dt\n",
    "        else:\n",
    "            d_term = 0.0\n",
    "                  \n",
    "        error = target - measurement\n",
    "        \n",
    "        # I - Term\n",
    "        if self.I * abs(self.I_Value) < self.I_Limit and dt > 0.0:\n",
    "            self.I_Value += error * dt\n",
    "        \n",
    "        self.I_Value = clip(self.I_Value, -self.I_Limit, self.I_Limit)\n",
    "        \n",
    "        output = d_term + self.I * self.I_Value + self.P * error\n",
    "        \n",
    "        if self.doprint:\n",
    "            print(f\"E: {error}, I: {self.I * self.I_Value}, D: {d_term}\")\n",
    "            \n",
    "        self.insight = (self.I_Value, self.I, self.K * self.I * self.I_Value)\n",
    "        \n",
    "        self.last_measurement = measurement\n",
    "        \n",
    "        # apply K\n",
    "        return self.K * output\n"
   ]
  },
  {
   "cell_type": "code",
   "execution_count": 17,
   "id": "ff6cfbf7-8201-4b9b-b2c0-7334ec7821ab",
   "metadata": {},
   "outputs": [],
   "source": [
    "import numpy as np\n",
    "\n",
    "def Simulation(initial: float):\n",
    "    \n",
    "    value = initial\n",
    "    \n",
    "    def simulate(command: float, dt: float, doprint: bool = False):\n",
    "        \n",
    "        nonlocal value\n",
    "        \n",
    "        while dt > 0.0:\n",
    "            value += 0.2 * command * dt\n",
    "            \n",
    "            if doprint:\n",
    "                print(f\"CMD: {command}, Value: {value}\")\n",
    "            \n",
    "            return value\n",
    "    \n",
    "    return simulate"
   ]
  },
  {
   "cell_type": "code",
   "execution_count": 18,
   "id": "3dc88307-ac38-46fe-81d2-9471f50fa1bf",
   "metadata": {},
   "outputs": [
    {
     "data": {
      "text/plain": [
       "0.0020000000000000005"
      ]
     },
     "execution_count": 18,
     "metadata": {},
     "output_type": "execute_result"
    }
   ],
   "source": [
    "sim = Simulation(0.0)\n",
    "sim(0.1, 0.1)"
   ]
  },
  {
   "cell_type": "code",
   "execution_count": 22,
   "id": "faa4db61-9ba1-4a04-bba7-740811ce7168",
   "metadata": {},
   "outputs": [],
   "source": [
    "dt = 0.1\n",
    "sim = Simulation(0.0)\n",
    "pid = PID(5., 1.0, 0.2, 0.01, doprint=False)\n",
    "cmd = 0.0\n",
    "\n",
    "data = []\n",
    "\n",
    "for i in range(3000):\n",
    "    measurement = sim(cmd, dt)\n",
    "    \n",
    "    if i > 500:\n",
    "        target = 1.0\n",
    "    else:\n",
    "        target = 0.0\n",
    "    \n",
    "    cmd = pid.update(measurement, target, dt)\n",
    "    \n",
    "    data.append((measurement, target, cmd, pid.I_Value))\n",
    "    "
   ]
  },
  {
   "cell_type": "code",
   "execution_count": 23,
   "id": "75962593-a145-4a82-9de7-832c3b5d1374",
   "metadata": {},
   "outputs": [
    {
     "data": {
      "text/plain": [
       "<matplotlib.legend.Legend at 0x7f02a05e8160>"
      ]
     },
     "execution_count": 23,
     "metadata": {},
     "output_type": "execute_result"
    },
    {
     "data": {
      "image/png": "[encoded data removed]",
      "text/plain": [
       "<Figure size 432x288 with 1 Axes>"
      ]
     },
     "metadata": {
      "needs_background": "light"
     },
     "output_type": "display_data"
    }
   ],
   "source": [
    "%matplotlib inline\n",
    "from matplotlib import pyplot as plt\n",
    "\n",
    "data = np.array(data)\n",
    "\n",
    "plt.plot(data[:,0], label='x')\n",
    "plt.plot(data[:,1], label='x_tar')\n",
    "\n",
    "plt.grid()\n",
    "plt.legend()"
   ]
  },
  {
   "cell_type": "markdown",
   "id": "434723ee-8ca8-4cf0-b6c4-b84c0033f9bc",
   "metadata": {},
   "source": [
    "# Collect data for C implementation testing"
   ]
  },
  {
   "cell_type": "code",
   "execution_count": 25,
   "id": "3296651b-0700-40af-8d50-fb53c1e629d4",
   "metadata": {},
   "outputs": [
    {
     "data": {
      "text/plain": [
       "(5.0, 1.0, 0.01, 0.2)"
      ]
     },
     "execution_count": 25,
     "metadata": {},
     "output_type": "execute_result"
    }
   ],
   "source": [
    "pid.K, pid.P, pid.I, pid.D"
   ]
  },
  {
   "cell_type": "code",
   "execution_count": 24,
   "id": "9e382f97-b4a8-476c-8461-d43355c48408",
   "metadata": {},
   "outputs": [],
   "source": [
    "with open(\"../../lib/pid/test_pid_data.inc\", \"w\") as afile:\n",
    "    afile.write(f\"const float test_data[{data.shape[0]}][{data.shape[1]}] = {{\\n\")\n",
    "    for row in data:\n",
    "        afile.write((\"\\t{{\" + len(row)*\"{:2.16f}f, \" +\"}},\\n\").format(*row))\n",
    "\n",
    "    afile.write(\"};\\n\")\n",
    "    "
   ]
  },
  {
   "cell_type": "code",
   "execution_count": null,
   "id": "35be8925-c6d1-4299-bd57-cb3f28e2d1c3",
   "metadata": {},
   "outputs": [],
   "source": []
  }
 ],
 "metadata": {
  "kernelspec": {
   "display_name": "Python 3 (ipykernel)",
   "language": "python",
   "name": "python3"
  },
  "language_info": {
   "codemirror_mode": {
    "name": "ipython",
    "version": 3
   },
   "file_extension": ".py",
   "mimetype": "text/x-python",
   "name": "python",
   "nbconvert_exporter": "python",
   "pygments_lexer": "ipython3",
   "version": "3.10.1"
  }
 },
 "nbformat": 4,
 "nbformat_minor": 5
}
