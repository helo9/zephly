{
 "cells": [
  {
   "cell_type": "markdown",
   "id": "551ef4d0-e27c-4506-b745-1e530383d637",
   "metadata": {
    "tags": []
   },
   "source": [
    "# Angular Rate Control\n",
    "\n",
    "The attitude rate controller is the most inner loop in ordinary quadrocopter flight\n",
    "control codes. It operates on the attitude rate vector in the body reference system.\n",
    "\n",
    "We implement three independent PID for each axis ($x$, $y$, $z$) loops with the following structure:\n",
    "\n",
    "![AngularRate.drawio.svg](AngularRate.drawio.svg)\n",
    "\n",
    "This is similiar to the px4 AngularRate controller. There are some notable differences compared to the textbook version of PIDs:\n",
    "\n",
    " * Only the measured state is used for the differential path, to prevent impulse responses in the output signal due to steps in the reference signal (also known as derivative kick)\n",
    " * The differentiated measurement is low pass filtered to reduce the effect of hight frequent noise\n",
    " * On the integral path additional information is fed in, to prevent integral windup"
   ]
  },
  {
   "cell_type": "code",
   "execution_count": 75,
   "id": "447decf1-a23c-4048-afa8-c985cdd9c14e",
   "metadata": {},
   "outputs": [],
   "source": [
    "from enum import Enum\n",
    "class RateConroller:\n",
    "    Saturation = Enum(\"Saturation\", \"POSITIVE NONE NEGATIVE\")\n",
    "        \n",
    "    def __init__(self, p, i, d, dt, i_lim=None):\n",
    "        self._k_p = p\n",
    "        self._k_i = i\n",
    "        self._k_d = d\n",
    "        \n",
    "        self._dt = dt\n",
    "        \n",
    "        self._p_val = 0.0\n",
    "        self._i_val = 0.0\n",
    "        self._d_val = 0.0\n",
    "        \n",
    "        self._i_lower_lim = -i_lim\n",
    "        self._i_upper_lim = i_lim\n",
    "        self._i_sum = 0.0\n",
    "        \n",
    "        self._last_measurement = None\n",
    "        self._saturation = self.Saturation.NONE     \n",
    "        \n",
    "    def _clip(self, val, upper_lim, lower_lim):\n",
    "        assert (upper_lim is None or lower_lim is None) or upper_lim > lower_lim, \\\n",
    "            \"The upper limit has always to be greater than the lower limit\"\n",
    "        if upper_lim is not None and val > upper_lim:\n",
    "            return upper_lim\n",
    "        elif lower_lim is not None and val < lower_lim:\n",
    "            return lower_lim\n",
    "        else:\n",
    "            return val\n",
    "    \n",
    "    def _update_integrator(self, error, dt):\n",
    "        \n",
    "        if self._saturation is self.Saturation.POSITIVE:\n",
    "            error = min(0.0, error)\n",
    "        elif self._saturation is self.Saturation.NEGATIVE:\n",
    "            error = max(0.0, error)\n",
    "        \n",
    "        self._i_sum += error * dt\n",
    "        \n",
    "        self._i_sum = self._clip(self._i_sum, self._i_upper_lim, self._i_lower_lim)\n",
    "        \n",
    "        return self._i_sum * self._k_i\n",
    "    \n",
    "    def _calc_d(self, measurement, dt):\n",
    "        \n",
    "        if self._last_measurement is not None:\n",
    "            Δy = measurement - self._last_measurement\n",
    "            \n",
    "        else:\n",
    "            Δy = 0.0\n",
    "        \n",
    "        self._last_measurement = measurement\n",
    "        \n",
    "        # TODO at Low Pass Filter\n",
    "        \n",
    "        return Δy\n",
    "    \n",
    "    def update(self, setpoint, measurement, dt=None):\n",
    "        if dt is None:\n",
    "            dt = self._dt\n",
    "            \n",
    "        error = setpoint - measurement\n",
    "        \n",
    "        self._p_val = error * self._k_p\n",
    "        self._i_val = self._i_sum * self._k_i\n",
    "        self._d_val = self._calc_d(measurement, dt) * self._k_d\n",
    "        \n",
    "        self._update_integrator(error, dt)\n",
    "        \n",
    "        return self._p_val  + self._i_val + self._d_val \n",
    "    \n",
    "    def anti_windup_backcalculation(self, desired_output):\n",
    "        self._i_sum = ( desired_output - self._p_val - self._d_val ) / self._k_i\n",
    "        \n",
    "    def set_saturation_state(self, saturation):\n",
    "        self._saturation = saturation\n",
    "        "
   ]
  },
  {
   "cell_type": "markdown",
   "id": "13caca4d-d133-43b7-bd68-ff77130e369c",
   "metadata": {},
   "source": [
    "# Trivial Test"
   ]
  },
  {
   "cell_type": "code",
   "execution_count": 76,
   "id": "3f5383f7-a58c-41b0-bf9c-53046291436c",
   "metadata": {},
   "outputs": [],
   "source": [
    "import numpy as np\n",
    "\n",
    "def Simulation(initial: float):\n",
    "    \n",
    "    value = initial\n",
    "    \n",
    "    def simulate(command: float, dt: float, doprint: bool = False):\n",
    "        \n",
    "        nonlocal value\n",
    "        \n",
    "        while dt > 0.0:\n",
    "            value += 0.2 * command * dt\n",
    "            \n",
    "            if doprint:\n",
    "                print(f\"CMD: {command}, Value: {value}\")\n",
    "            \n",
    "            return value\n",
    "    \n",
    "    return simulate"
   ]
  },
  {
   "cell_type": "code",
   "execution_count": 102,
   "id": "6ac61987-3336-41b9-9223-acf329d37055",
   "metadata": {},
   "outputs": [],
   "source": [
    "dt = 0.1\n",
    "sim = Simulation(0.0)\n",
    "pid = RateConroller(20., 1.0, 0.2, 0.01, 15.0)\n",
    "cmd = 0.0\n",
    "\n",
    "data = []\n",
    "\n",
    "for i in range(3000):\n",
    "    measurement = sim(cmd, dt)\n",
    "    \n",
    "    if i < 750:\n",
    "        target = 0.0\n",
    "    elif i < 1000:\n",
    "        target = 1.0\n",
    "    elif i < 1500:\n",
    "        target = -1.0\n",
    "    elif i < 2000:\n",
    "        target = (i-1500) / 500.0 - 1.0\n",
    "    else:\n",
    "        target = 2.0\n",
    "    \n",
    "    cmd = pid.update(target, measurement, dt)\n",
    "    \n",
    "    data.append((measurement, target, cmd))\n",
    "    "
   ]
  },
  {
   "cell_type": "code",
   "execution_count": 103,
   "id": "328b6396-302b-4918-a902-7a29eb40f4e8",
   "metadata": {},
   "outputs": [
    {
     "data": {
      "text/plain": [
       "<matplotlib.legend.Legend at 0x7ff85c6c3280>"
      ]
     },
     "execution_count": 103,
     "metadata": {},
     "output_type": "execute_result"
    },
    {
     "data": {
      "image/png": "[encoded data removed]",
      "text/plain": [
       "<Figure size 1080x720 with 1 Axes>"
      ]
     },
     "metadata": {
      "needs_background": "light"
     },
     "output_type": "display_data"
    }
   ],
   "source": [
    "%matplotlib inline\n",
    "from matplotlib import pyplot as plt\n",
    "\n",
    "data = np.array(data)\n",
    "\n",
    "plt.figure(figsize=(15,10))\n",
    "\n",
    "plt.plot(data[:,0], label='x')\n",
    "plt.plot(data[:,1], '--', label='x_tar')\n",
    "\n",
    "plt.grid()\n",
    "plt.legend()"
   ]
  },
  {
   "cell_type": "code",
   "execution_count": null,
   "id": "066117f4-a086-4d50-9761-2123ca85cfbc",
   "metadata": {},
   "outputs": [],
   "source": []
  }
 ],
 "metadata": {
  "kernelspec": {
   "display_name": "Python 3 (ipykernel)",
   "language": "python",
   "name": "python3"
  },
  "language_info": {
   "codemirror_mode": {
    "name": "ipython",
    "version": 3
   },
   "file_extension": ".py",
   "mimetype": "text/x-python",
   "name": "python",
   "nbconvert_exporter": "python",
   "pygments_lexer": "ipython3",
   "version": "3.10.1"
  }
 },
 "nbformat": 4,
 "nbformat_minor": 5
}
